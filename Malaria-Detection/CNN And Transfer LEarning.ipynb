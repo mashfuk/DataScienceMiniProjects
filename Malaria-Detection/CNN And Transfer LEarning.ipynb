{
 "cells": [
  {
   "cell_type": "markdown",
   "metadata": {},
   "source": [
    "## Creating CNN Using Scratch And Transfer Learning"
   ]
  },
  {
   "cell_type": "markdown",
   "metadata": {},
   "source": [
    "Please download the dataset from the below url"
   ]
  },
  {
   "cell_type": "code",
   "execution_count": 1,
   "metadata": {},
   "outputs": [],
   "source": [
    "# import the libraries as shown below\n",
    "\n",
    "from tensorflow.keras.layers import Input, Lambda, Dense, Flatten,Conv2D\n",
    "from tensorflow.keras.models import Model\n",
    "from tensorflow.keras.applications.vgg19 import VGG19\n",
    "from tensorflow.keras.applications.resnet50 import preprocess_input\n",
    "from tensorflow.keras.preprocessing import image\n",
    "from tensorflow.keras.preprocessing.image import ImageDataGenerator,load_img\n",
    "from tensorflow.keras.models import Sequential\n",
    "import numpy as np\n",
    "from glob import glob\n",
    "import matplotlib.pyplot as plt"
   ]
  },
  {
   "cell_type": "code",
   "execution_count": 2,
   "metadata": {},
   "outputs": [],
   "source": [
    "# re-size all the images to this\n",
    "IMAGE_SIZE = [224, 224]\n",
    "\n",
    "train_path = 'cell_images/Train'\n",
    "valid_path = 'cell_images/Test'\n"
   ]
  },
  {
   "cell_type": "code",
   "execution_count": 3,
   "metadata": {},
   "outputs": [
    {
     "name": "stdout",
     "output_type": "stream",
     "text": [
      "Downloading data from https://storage.googleapis.com/tensorflow/keras-applications/vgg19/vgg19_weights_tf_dim_ordering_tf_kernels_notop.h5\n",
      "80142336/80134624 [==============================] - 165s 2us/step\n"
     ]
    }
   ],
   "source": [
    "# Import the Vgg 16 library as shown below and add preprocessing layer to the front of VGG\n",
    "# Here we will be using imagenet weights\n",
    "\n",
    "mobilnet = VGG19(input_shape=IMAGE_SIZE + [3], weights='imagenet', include_top=False)\n",
    "\n",
    "\n"
   ]
  },
  {
   "cell_type": "code",
   "execution_count": 4,
   "metadata": {},
   "outputs": [],
   "source": [
    "# don't train existing weights\n",
    "for layer in mobilnet.layers:\n",
    "    layer.trainable = False"
   ]
  },
  {
   "cell_type": "code",
   "execution_count": 5,
   "metadata": {},
   "outputs": [],
   "source": [
    "  # useful for getting number of output classes\n",
    "folders = glob('Dataset/Train/*')"
   ]
  },
  {
   "cell_type": "code",
   "execution_count": 6,
   "metadata": {},
   "outputs": [
    {
     "data": {
      "text/plain": [
       "['Dataset/Train\\\\Parasite', 'Dataset/Train\\\\Uninfected']"
      ]
     },
     "execution_count": 6,
     "metadata": {},
     "output_type": "execute_result"
    }
   ],
   "source": [
    "folders"
   ]
  },
  {
   "cell_type": "code",
   "execution_count": 7,
   "metadata": {},
   "outputs": [],
   "source": [
    "# our layers - you can add more if you want\n",
    "x = Flatten()(mobilnet.output)"
   ]
  },
  {
   "cell_type": "code",
   "execution_count": 8,
   "metadata": {},
   "outputs": [],
   "source": [
    "prediction = Dense(len(folders), activation='softmax')(x)\n",
    "\n",
    "# create a model object\n",
    "model = Model(inputs=mobilnet.input, outputs=prediction)"
   ]
  },
  {
   "cell_type": "code",
   "execution_count": 9,
   "metadata": {},
   "outputs": [
    {
     "name": "stdout",
     "output_type": "stream",
     "text": [
      "Model: \"model\"\n",
      "_________________________________________________________________\n",
      "Layer (type)                 Output Shape              Param #   \n",
      "=================================================================\n",
      "input_1 (InputLayer)         [(None, 224, 224, 3)]     0         \n",
      "_________________________________________________________________\n",
      "block1_conv1 (Conv2D)        (None, 224, 224, 64)      1792      \n",
      "_________________________________________________________________\n",
      "block1_conv2 (Conv2D)        (None, 224, 224, 64)      36928     \n",
      "_________________________________________________________________\n",
      "block1_pool (MaxPooling2D)   (None, 112, 112, 64)      0         \n",
      "_________________________________________________________________\n",
      "block2_conv1 (Conv2D)        (None, 112, 112, 128)     73856     \n",
      "_________________________________________________________________\n",
      "block2_conv2 (Conv2D)        (None, 112, 112, 128)     147584    \n",
      "_________________________________________________________________\n",
      "block2_pool (MaxPooling2D)   (None, 56, 56, 128)       0         \n",
      "_________________________________________________________________\n",
      "block3_conv1 (Conv2D)        (None, 56, 56, 256)       295168    \n",
      "_________________________________________________________________\n",
      "block3_conv2 (Conv2D)        (None, 56, 56, 256)       590080    \n",
      "_________________________________________________________________\n",
      "block3_conv3 (Conv2D)        (None, 56, 56, 256)       590080    \n",
      "_________________________________________________________________\n",
      "block3_conv4 (Conv2D)        (None, 56, 56, 256)       590080    \n",
      "_________________________________________________________________\n",
      "block3_pool (MaxPooling2D)   (None, 28, 28, 256)       0         \n",
      "_________________________________________________________________\n",
      "block4_conv1 (Conv2D)        (None, 28, 28, 512)       1180160   \n",
      "_________________________________________________________________\n",
      "block4_conv2 (Conv2D)        (None, 28, 28, 512)       2359808   \n",
      "_________________________________________________________________\n",
      "block4_conv3 (Conv2D)        (None, 28, 28, 512)       2359808   \n",
      "_________________________________________________________________\n",
      "block4_conv4 (Conv2D)        (None, 28, 28, 512)       2359808   \n",
      "_________________________________________________________________\n",
      "block4_pool (MaxPooling2D)   (None, 14, 14, 512)       0         \n",
      "_________________________________________________________________\n",
      "block5_conv1 (Conv2D)        (None, 14, 14, 512)       2359808   \n",
      "_________________________________________________________________\n",
      "block5_conv2 (Conv2D)        (None, 14, 14, 512)       2359808   \n",
      "_________________________________________________________________\n",
      "block5_conv3 (Conv2D)        (None, 14, 14, 512)       2359808   \n",
      "_________________________________________________________________\n",
      "block5_conv4 (Conv2D)        (None, 14, 14, 512)       2359808   \n",
      "_________________________________________________________________\n",
      "block5_pool (MaxPooling2D)   (None, 7, 7, 512)         0         \n",
      "_________________________________________________________________\n",
      "flatten (Flatten)            (None, 25088)             0         \n",
      "_________________________________________________________________\n",
      "dense (Dense)                (None, 2)                 50178     \n",
      "=================================================================\n",
      "Total params: 20,074,562\n",
      "Trainable params: 50,178\n",
      "Non-trainable params: 20,024,384\n",
      "_________________________________________________________________\n"
     ]
    }
   ],
   "source": [
    "\n",
    "# view the structure of the model\n",
    "model.summary()\n"
   ]
  },
  {
   "cell_type": "code",
   "execution_count": 10,
   "metadata": {},
   "outputs": [],
   "source": [
    "from tensorflow.keras.layers import MaxPooling2D"
   ]
  },
  {
   "cell_type": "code",
   "execution_count": 11,
   "metadata": {},
   "outputs": [
    {
     "name": "stdout",
     "output_type": "stream",
     "text": [
      "Model: \"sequential\"\n",
      "_________________________________________________________________\n",
      "Layer (type)                 Output Shape              Param #   \n",
      "=================================================================\n",
      "conv2d (Conv2D)              (None, 224, 224, 16)      208       \n",
      "_________________________________________________________________\n",
      "max_pooling2d (MaxPooling2D) (None, 112, 112, 16)      0         \n",
      "_________________________________________________________________\n",
      "conv2d_1 (Conv2D)            (None, 112, 112, 32)      2080      \n",
      "_________________________________________________________________\n",
      "max_pooling2d_1 (MaxPooling2 (None, 56, 56, 32)        0         \n",
      "_________________________________________________________________\n",
      "conv2d_2 (Conv2D)            (None, 56, 56, 64)        8256      \n",
      "_________________________________________________________________\n",
      "max_pooling2d_2 (MaxPooling2 (None, 28, 28, 64)        0         \n",
      "_________________________________________________________________\n",
      "flatten_1 (Flatten)          (None, 50176)             0         \n",
      "_________________________________________________________________\n",
      "dense_1 (Dense)              (None, 500)               25088500  \n",
      "_________________________________________________________________\n",
      "dense_2 (Dense)              (None, 2)                 1002      \n",
      "=================================================================\n",
      "Total params: 25,100,046\n",
      "Trainable params: 25,100,046\n",
      "Non-trainable params: 0\n",
      "_________________________________________________________________\n"
     ]
    }
   ],
   "source": [
    "### Create Model from scratch using CNN\n",
    "model=Sequential()\n",
    "model.add(Conv2D(filters=16,kernel_size=2,padding=\"same\",activation=\"relu\",input_shape=(224,224,3)))\n",
    "model.add(MaxPooling2D(pool_size=2))\n",
    "model.add(Conv2D(filters=32,kernel_size=2,padding=\"same\",activation =\"relu\"))\n",
    "model.add(MaxPooling2D(pool_size=2))\n",
    "model.add(Conv2D(filters=64,kernel_size=2,padding=\"same\",activation=\"relu\"))\n",
    "model.add(MaxPooling2D(pool_size=2))\n",
    "model.add(Flatten())\n",
    "model.add(Dense(500,activation=\"relu\"))\n",
    "model.add(Dense(2,activation=\"softmax\"))\n",
    "model.summary()"
   ]
  },
  {
   "cell_type": "code",
   "execution_count": 12,
   "metadata": {},
   "outputs": [],
   "source": [
    "# tell the model what cost and optimization method to use\n",
    "model.compile(\n",
    "  loss='categorical_crossentropy',\n",
    "  optimizer='adam',\n",
    "  metrics=['accuracy']\n",
    ")\n"
   ]
  },
  {
   "cell_type": "code",
   "execution_count": 13,
   "metadata": {},
   "outputs": [],
   "source": [
    "# Use the Image Data Generator to import the images from the dataset\n",
    "from tensorflow.keras.preprocessing.image import ImageDataGenerator\n",
    "\n",
    "train_datagen = ImageDataGenerator(rescale = 1./255,\n",
    "                                   shear_range = 0.2,\n",
    "                                   zoom_range = 0.2,\n",
    "                                   horizontal_flip = True)\n",
    "\n",
    "test_datagen = ImageDataGenerator(rescale = 1./255)"
   ]
  },
  {
   "cell_type": "code",
   "execution_count": 14,
   "metadata": {},
   "outputs": [
    {
     "name": "stdout",
     "output_type": "stream",
     "text": [
      "Found 416 images belonging to 2 classes.\n"
     ]
    }
   ],
   "source": [
    "# Make sure you provide the same target size as initialied for the image size\n",
    "training_set = train_datagen.flow_from_directory('Dataset/Train',\n",
    "                                                 target_size = (224, 224),\n",
    "                                                 batch_size = 32,\n",
    "                                                 class_mode = 'categorical')"
   ]
  },
  {
   "cell_type": "code",
   "execution_count": 15,
   "metadata": {},
   "outputs": [
    {
     "data": {
      "text/plain": [
       "<tensorflow.python.keras.preprocessing.image.DirectoryIterator at 0x22fd50903a0>"
      ]
     },
     "execution_count": 15,
     "metadata": {},
     "output_type": "execute_result"
    }
   ],
   "source": [
    "training_set"
   ]
  },
  {
   "cell_type": "code",
   "execution_count": 16,
   "metadata": {},
   "outputs": [
    {
     "name": "stdout",
     "output_type": "stream",
     "text": [
      "Found 134 images belonging to 2 classes.\n"
     ]
    }
   ],
   "source": [
    "test_set = test_datagen.flow_from_directory('Dataset/Test',\n",
    "                                            target_size = (224, 224),\n",
    "                                            batch_size = 32,\n",
    "                                            class_mode = 'categorical')"
   ]
  },
  {
   "cell_type": "code",
   "execution_count": 20,
   "metadata": {
    "scrolled": true
   },
   "outputs": [
    {
     "name": "stdout",
     "output_type": "stream",
     "text": [
      "Epoch 1/5\n",
      "13/13 [==============================] - 90s 7s/step - loss: 0.1206 - accuracy: 0.9591 - val_loss: 0.3530 - val_accuracy: 0.8507\n",
      "Epoch 2/5\n",
      "13/13 [==============================] - 108s 8s/step - loss: 0.0973 - accuracy: 0.9639 - val_loss: 0.5015 - val_accuracy: 0.8209\n",
      "Epoch 3/5\n",
      "13/13 [==============================] - 91s 7s/step - loss: 0.0997 - accuracy: 0.9712 - val_loss: 0.4899 - val_accuracy: 0.8433\n",
      "Epoch 4/5\n",
      "13/13 [==============================] - 103s 8s/step - loss: 0.0873 - accuracy: 0.9712 - val_loss: 0.3615 - val_accuracy: 0.8582\n",
      "Epoch 5/5\n",
      "13/13 [==============================] - 112s 8s/step - loss: 0.0782 - accuracy: 0.9736 - val_loss: 0.3793 - val_accuracy: 0.8582\n"
     ]
    }
   ],
   "source": [
    "# fit the model\n",
    "# Run the cell. It will take some time to execute\n",
    "r = model.fit_generator(\n",
    "  training_set,\n",
    "  validation_data=test_set,\n",
    "  epochs=5,\n",
    "  steps_per_epoch=len(training_set),\n",
    "  validation_steps=len(test_set)\n",
    ")"
   ]
  },
  {
   "cell_type": "code",
   "execution_count": null,
   "metadata": {},
   "outputs": [],
   "source": []
  },
  {
   "cell_type": "code",
   "execution_count": 22,
   "metadata": {},
   "outputs": [
    {
     "data": {
      "image/png": "[encoded data removed]",
      "text/plain": [
       "<Figure size 432x288 with 1 Axes>"
      ]
     },
     "metadata": {
      "needs_background": "light"
     },
     "output_type": "display_data"
    },
    {
     "data": {
      "image/png": "[encoded data removed]",
      "text/plain": [
       "<Figure size 432x288 with 1 Axes>"
      ]
     },
     "metadata": {
      "needs_background": "light"
     },
     "output_type": "display_data"
    },
    {
     "data": {
      "text/plain": [
       "<Figure size 432x288 with 0 Axes>"
      ]
     },
     "metadata": {},
     "output_type": "display_data"
    }
   ],
   "source": [
    "# plot the loss\n",
    "plt.plot(r.history['loss'], label='train loss')\n",
    "plt.plot(r.history['val_loss'], label='val loss')\n",
    "plt.legend()\n",
    "plt.show()\n",
    "plt.savefig('LossVal_loss')\n",
    "\n",
    "# plot the accuracy\n",
    "plt.plot(r.history['accuracy'], label='train acc')\n",
    "plt.plot(r.history['val_accuracy'], label='val acc')\n",
    "plt.legend()\n",
    "plt.show()\n",
    "plt.savefig('AccVal_acc')"
   ]
  },
  {
   "cell_type": "code",
   "execution_count": 23,
   "metadata": {},
   "outputs": [],
   "source": [
    "# save it as a h5 file\n",
    "\n",
    "\n",
    "from tensorflow.keras.models import load_model\n",
    "\n",
    "model.save('model_vgg19.h5')"
   ]
  },
  {
   "cell_type": "code",
   "execution_count": null,
   "metadata": {},
   "outputs": [],
   "source": []
  },
  {
   "cell_type": "code",
   "execution_count": 24,
   "metadata": {},
   "outputs": [],
   "source": [
    "\n",
    "y_pred = model.predict(test_set)\n"
   ]
  },
  {
   "cell_type": "code",
   "execution_count": 25,
   "metadata": {},
   "outputs": [
    {
     "data": {
      "text/plain": [
       "array([[9.9870956e-01, 1.2904684e-03],\n",
       "       [2.5167543e-02, 9.7483248e-01],\n",
       "       [3.5063211e-02, 9.6493685e-01],\n",
       "       [9.9999988e-01, 1.2921873e-07],\n",
       "       [9.9745554e-01, 2.5444585e-03],\n",
       "       [2.9400343e-02, 9.7059959e-01],\n",
       "       [9.9740040e-01, 2.5995628e-03],\n",
       "       [9.8451126e-01, 1.5488712e-02],\n",
       "       [2.7442157e-02, 9.7255784e-01],\n",
       "       [2.2935402e-02, 9.7706461e-01],\n",
       "       [9.9942613e-01, 5.7394587e-04],\n",
       "       [9.9533492e-01, 4.6650544e-03],\n",
       "       [9.9420303e-01, 5.7969065e-03],\n",
       "       [1.7986989e-01, 8.2013011e-01],\n",
       "       [1.7064486e-02, 9.8293555e-01],\n",
       "       [4.6782348e-02, 9.5321763e-01],\n",
       "       [3.0379158e-02, 9.6962088e-01],\n",
       "       [1.3835286e-02, 9.8616469e-01],\n",
       "       [2.7075319e-02, 9.7292465e-01],\n",
       "       [9.9486345e-01, 5.1365052e-03],\n",
       "       [9.9331325e-01, 6.6867927e-03],\n",
       "       [1.5900936e-02, 9.8409903e-01],\n",
       "       [8.9475548e-01, 1.0524460e-01],\n",
       "       [4.4886220e-02, 9.5511383e-01],\n",
       "       [1.3635913e-01, 8.6364090e-01],\n",
       "       [1.1775390e-02, 9.8822463e-01],\n",
       "       [1.6982752e-01, 8.3017248e-01],\n",
       "       [4.3947488e-02, 9.5605248e-01],\n",
       "       [1.5878959e-01, 8.4121048e-01],\n",
       "       [9.9675095e-01, 3.2490722e-03],\n",
       "       [1.2791161e-01, 8.7208843e-01],\n",
       "       [4.0243670e-02, 9.5975631e-01],\n",
       "       [1.6284272e-01, 8.3715725e-01],\n",
       "       [9.9457318e-01, 5.4268530e-03],\n",
       "       [1.0151616e-01, 8.9848381e-01],\n",
       "       [5.5474076e-02, 9.4452596e-01],\n",
       "       [9.9969184e-01, 3.0812473e-04],\n",
       "       [1.8073720e-01, 8.1926280e-01],\n",
       "       [3.3662325e-01, 6.6337669e-01],\n",
       "       [6.5134346e-02, 9.3486571e-01],\n",
       "       [9.9872547e-01, 1.2744651e-03],\n",
       "       [9.9999547e-01, 4.5775064e-06],\n",
       "       [4.2069074e-02, 9.5793092e-01],\n",
       "       [5.3132161e-02, 9.4686782e-01],\n",
       "       [8.0881625e-02, 9.1911840e-01],\n",
       "       [5.4383487e-01, 4.5616511e-01],\n",
       "       [9.5305932e-01, 4.6940636e-02],\n",
       "       [1.0320808e-01, 8.9679193e-01],\n",
       "       [9.9643779e-01, 3.5622381e-03],\n",
       "       [6.1721962e-02, 9.3827802e-01],\n",
       "       [4.4065807e-02, 9.5593417e-01],\n",
       "       [5.0449941e-02, 9.4955003e-01],\n",
       "       [9.9991179e-01, 8.8223213e-05],\n",
       "       [1.1123267e-01, 8.8876730e-01],\n",
       "       [9.9932218e-01, 6.7788421e-04],\n",
       "       [9.9405473e-01, 5.9452835e-03],\n",
       "       [8.0700032e-03, 9.9193001e-01],\n",
       "       [9.9295205e-01, 7.0479731e-03],\n",
       "       [9.7034913e-01, 2.9650830e-02],\n",
       "       [9.9822086e-01, 1.7791374e-03],\n",
       "       [2.2310374e-02, 9.7768956e-01],\n",
       "       [9.8957270e-01, 1.0427309e-02],\n",
       "       [9.9994814e-01, 5.1827170e-05],\n",
       "       [4.3704331e-01, 5.6295675e-01],\n",
       "       [9.9984980e-01, 1.5020245e-04],\n",
       "       [9.9530715e-01, 4.6928655e-03],\n",
       "       [3.7443388e-02, 9.6255666e-01],\n",
       "       [9.9994719e-01, 5.2771102e-05],\n",
       "       [1.8339919e-02, 9.8166007e-01],\n",
       "       [9.9831188e-01, 1.6881492e-03],\n",
       "       [9.9999547e-01, 4.4960561e-06],\n",
       "       [1.2366773e-02, 9.8763323e-01],\n",
       "       [4.1728240e-02, 9.5827180e-01],\n",
       "       [8.2045406e-01, 1.7954586e-01],\n",
       "       [5.7505839e-02, 9.4249415e-01],\n",
       "       [9.9298215e-01, 7.0178872e-03],\n",
       "       [9.9563980e-01, 4.3601664e-03],\n",
       "       [9.9992740e-01, 7.2630697e-05],\n",
       "       [1.8042592e-02, 9.8195744e-01],\n",
       "       [9.9398535e-01, 6.0146381e-03],\n",
       "       [9.9518639e-01, 4.8135817e-03],\n",
       "       [9.9987733e-01, 1.2259517e-04],\n",
       "       [9.8069304e-01, 1.9306958e-02],\n",
       "       [9.9996793e-01, 3.2095773e-05],\n",
       "       [9.8829973e-01, 1.1700297e-02],\n",
       "       [3.4248825e-02, 9.6575111e-01],\n",
       "       [2.8225565e-02, 9.7177446e-01],\n",
       "       [1.8733913e-02, 9.8126608e-01],\n",
       "       [9.9990702e-01, 9.2929091e-05],\n",
       "       [3.1876832e-02, 9.6812314e-01],\n",
       "       [8.6166926e-02, 9.1383302e-01],\n",
       "       [4.1059479e-02, 9.5894051e-01],\n",
       "       [1.2169551e-01, 8.7830448e-01],\n",
       "       [9.9539894e-01, 4.6010404e-03],\n",
       "       [8.6868459e-01, 1.3131547e-01],\n",
       "       [9.9987471e-01, 1.2527168e-04],\n",
       "       [1.2914247e-02, 9.8708576e-01],\n",
       "       [9.7906232e-01, 2.0937625e-02],\n",
       "       [9.4744974e-01, 5.2550226e-02],\n",
       "       [1.4309216e-01, 8.5690778e-01],\n",
       "       [3.0154174e-02, 9.6984583e-01],\n",
       "       [9.9380070e-01, 6.1993562e-03],\n",
       "       [8.4813166e-01, 1.5186837e-01],\n",
       "       [9.9846065e-01, 1.5393721e-03],\n",
       "       [9.9958462e-01, 4.1544467e-04],\n",
       "       [1.9595784e-01, 8.0404216e-01],\n",
       "       [9.9543226e-01, 4.5677046e-03],\n",
       "       [3.6286294e-02, 9.6371365e-01],\n",
       "       [1.0000000e+00, 3.2734054e-08],\n",
       "       [9.9865913e-01, 1.3409039e-03],\n",
       "       [9.9786478e-01, 2.1352812e-03],\n",
       "       [2.8024310e-02, 9.7197568e-01],\n",
       "       [9.9768221e-01, 2.3177201e-03],\n",
       "       [9.8909152e-01, 1.0908469e-02],\n",
       "       [2.7047190e-01, 7.2952813e-01],\n",
       "       [9.9979597e-01, 2.0405542e-04],\n",
       "       [9.8211873e-01, 1.7881319e-02],\n",
       "       [9.7120047e-01, 2.8799498e-02],\n",
       "       [9.9461550e-01, 5.3844731e-03],\n",
       "       [9.9597506e-02, 9.0040249e-01],\n",
       "       [9.9435729e-01, 5.6426628e-03],\n",
       "       [9.7918075e-01, 2.0819241e-02],\n",
       "       [2.2031710e-02, 9.7796828e-01],\n",
       "       [9.9051267e-01, 9.4873533e-03],\n",
       "       [9.7939658e-01, 2.0603476e-02],\n",
       "       [1.5659217e-02, 9.8434073e-01],\n",
       "       [9.9840373e-01, 1.5963379e-03],\n",
       "       [4.6637308e-02, 9.5336270e-01],\n",
       "       [2.4135241e-02, 9.7586483e-01],\n",
       "       [5.5103886e-01, 4.4896111e-01],\n",
       "       [9.9929190e-01, 7.0811051e-04],\n",
       "       [9.9365848e-01, 6.3414928e-03],\n",
       "       [9.9999917e-01, 8.2785664e-07],\n",
       "       [9.2826539e-01, 7.1734585e-02]], dtype=float32)"
      ]
     },
     "execution_count": 25,
     "metadata": {},
     "output_type": "execute_result"
    }
   ],
   "source": [
    "y_pred"
   ]
  },
  {
   "cell_type": "code",
   "execution_count": 26,
   "metadata": {},
   "outputs": [],
   "source": [
    "import numpy as np\n",
    "y_pred = np.argmax(y_pred, axis=1)"
   ]
  },
  {
   "cell_type": "code",
   "execution_count": 27,
   "metadata": {},
   "outputs": [
    {
     "data": {
      "text/plain": [
       "array([0, 1, 1, 0, 0, 1, 0, 0, 1, 1, 0, 0, 0, 1, 1, 1, 1, 1, 1, 0, 0, 1,\n",
       "       0, 1, 1, 1, 1, 1, 1, 0, 1, 1, 1, 0, 1, 1, 0, 1, 1, 1, 0, 0, 1, 1,\n",
       "       1, 0, 0, 1, 0, 1, 1, 1, 0, 1, 0, 0, 1, 0, 0, 0, 1, 0, 0, 1, 0, 0,\n",
       "       1, 0, 1, 0, 0, 1, 1, 0, 1, 0, 0, 0, 1, 0, 0, 0, 0, 0, 0, 1, 1, 1,\n",
       "       0, 1, 1, 1, 1, 0, 0, 0, 1, 0, 0, 1, 1, 0, 0, 0, 0, 1, 0, 1, 0, 0,\n",
       "       0, 1, 0, 0, 1, 0, 0, 0, 0, 1, 0, 0, 1, 0, 0, 1, 0, 1, 1, 0, 0, 0,\n",
       "       0, 0], dtype=int64)"
      ]
     },
     "execution_count": 27,
     "metadata": {},
     "output_type": "execute_result"
    }
   ],
   "source": [
    "y_pred"
   ]
  },
  {
   "cell_type": "code",
   "execution_count": null,
   "metadata": {},
   "outputs": [],
   "source": []
  },
  {
   "cell_type": "code",
   "execution_count": 28,
   "metadata": {},
   "outputs": [],
   "source": [
    "from tensorflow.keras.models import load_model\n",
    "from tensorflow.keras.preprocessing import image"
   ]
  },
  {
   "cell_type": "code",
   "execution_count": 29,
   "metadata": {},
   "outputs": [],
   "source": [
    "model=load_model('model_vgg19.h5')"
   ]
  },
  {
   "cell_type": "code",
   "execution_count": null,
   "metadata": {},
   "outputs": [],
   "source": []
  },
  {
   "cell_type": "code",
   "execution_count": 30,
   "metadata": {},
   "outputs": [],
   "source": [
    "img=image.load_img('Dataset/Test/Uninfected/2.png',target_size=(224,224))\n",
    "\n"
   ]
  },
  {
   "cell_type": "code",
   "execution_count": 31,
   "metadata": {},
   "outputs": [
    {
     "data": {
      "text/plain": [
       "array([[[0., 0., 0.],\n",
       "        [0., 0., 0.],\n",
       "        [0., 0., 0.],\n",
       "        ...,\n",
       "        [0., 0., 0.],\n",
       "        [0., 0., 0.],\n",
       "        [0., 0., 0.]],\n",
       "\n",
       "       [[0., 0., 0.],\n",
       "        [0., 0., 0.],\n",
       "        [0., 0., 0.],\n",
       "        ...,\n",
       "        [0., 0., 0.],\n",
       "        [0., 0., 0.],\n",
       "        [0., 0., 0.]],\n",
       "\n",
       "       [[0., 0., 0.],\n",
       "        [0., 0., 0.],\n",
       "        [0., 0., 0.],\n",
       "        ...,\n",
       "        [0., 0., 0.],\n",
       "        [0., 0., 0.],\n",
       "        [0., 0., 0.]],\n",
       "\n",
       "       ...,\n",
       "\n",
       "       [[0., 0., 0.],\n",
       "        [0., 0., 0.],\n",
       "        [0., 0., 0.],\n",
       "        ...,\n",
       "        [0., 0., 0.],\n",
       "        [0., 0., 0.],\n",
       "        [0., 0., 0.]],\n",
       "\n",
       "       [[0., 0., 0.],\n",
       "        [0., 0., 0.],\n",
       "        [0., 0., 0.],\n",
       "        ...,\n",
       "        [0., 0., 0.],\n",
       "        [0., 0., 0.],\n",
       "        [0., 0., 0.]],\n",
       "\n",
       "       [[0., 0., 0.],\n",
       "        [0., 0., 0.],\n",
       "        [0., 0., 0.],\n",
       "        ...,\n",
       "        [0., 0., 0.],\n",
       "        [0., 0., 0.],\n",
       "        [0., 0., 0.]]], dtype=float32)"
      ]
     },
     "execution_count": 31,
     "metadata": {},
     "output_type": "execute_result"
    }
   ],
   "source": [
    "x=image.img_to_array(img)\n",
    "x"
   ]
  },
  {
   "cell_type": "code",
   "execution_count": 32,
   "metadata": {},
   "outputs": [
    {
     "data": {
      "text/plain": [
       "(224, 224, 3)"
      ]
     },
     "execution_count": 32,
     "metadata": {},
     "output_type": "execute_result"
    }
   ],
   "source": [
    "x.shape"
   ]
  },
  {
   "cell_type": "code",
   "execution_count": 33,
   "metadata": {},
   "outputs": [],
   "source": [
    "x=x/255"
   ]
  },
  {
   "cell_type": "code",
   "execution_count": 34,
   "metadata": {},
   "outputs": [
    {
     "data": {
      "text/plain": [
       "(1, 224, 224, 3)"
      ]
     },
     "execution_count": 34,
     "metadata": {},
     "output_type": "execute_result"
    }
   ],
   "source": [
    "x=np.expand_dims(x,axis=0)\n",
    "img_data=preprocess_input(x)\n",
    "img_data.shape"
   ]
  },
  {
   "cell_type": "code",
   "execution_count": 35,
   "metadata": {},
   "outputs": [
    {
     "data": {
      "text/plain": [
       "array([[1., 0.]], dtype=float32)"
      ]
     },
     "execution_count": 35,
     "metadata": {},
     "output_type": "execute_result"
    }
   ],
   "source": [
    "model.predict(img_data)"
   ]
  },
  {
   "cell_type": "code",
   "execution_count": 36,
   "metadata": {},
   "outputs": [],
   "source": [
    "a=np.argmax(model.predict(img_data), axis=1)"
   ]
  },
  {
   "cell_type": "code",
   "execution_count": 37,
   "metadata": {},
   "outputs": [
    {
     "name": "stdout",
     "output_type": "stream",
     "text": [
      "Infected\n"
     ]
    }
   ],
   "source": [
    "if(a==1):\n",
    "    print(\"Uninfected\")\n",
    "else:\n",
    "    print(\"Infected\")"
   ]
  },
  {
   "cell_type": "code",
   "execution_count": null,
   "metadata": {},
   "outputs": [],
   "source": []
  },
  {
   "cell_type": "code",
   "execution_count": null,
   "metadata": {},
   "outputs": [],
   "source": []
  }
 ],
 "metadata": {
  "kernelspec": {
   "display_name": "Python 3",
   "language": "python",
   "name": "python3"
  },
  "language_info": {
   "codemirror_mode": {
    "name": "ipython",
    "version": 3
   },
   "file_extension": ".py",
   "mimetype": "text/x-python",
   "name": "python",
   "nbconvert_exporter": "python",
   "pygments_lexer": "ipython3",
   "version": "3.8.5"
  }
 },
 "nbformat": 4,
 "nbformat_minor": 2
}
